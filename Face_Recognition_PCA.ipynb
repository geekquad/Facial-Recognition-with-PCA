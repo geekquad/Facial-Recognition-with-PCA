{
  "nbformat": 4,
  "nbformat_minor": 0,
  "metadata": {
    "colab": {
      "name": "Face Recognition PCA.ipynb",
      "provenance": []
    },
    "kernelspec": {
      "name": "python3",
      "display_name": "Python 3"
    }
  },
  "cells": [
    {
      "cell_type": "markdown",
      "metadata": {
        "id": "HcaRH1W0e_Gc",
        "colab_type": "text"
      },
      "source": [
        "Importing Necessary Libraries:"
      ]
    },
    {
      "cell_type": "code",
      "metadata": {
        "id": "rKZg_eT8Sv6t",
        "colab_type": "code",
        "colab": {}
      },
      "source": [
        "import pandas as pd\n",
        "import numpy as np\n",
        "from time import time\n",
        "import logging\n",
        "import matplotlib.pyplot as plt\n",
        "\n",
        "from sklearn.model_selection import train_test_split\n",
        "from sklearn.model_selection import GridSearchCV\n",
        "from sklearn.datasets import fetch_lfw_people\n",
        "from sklearn.metrics import classification_report\n",
        "from sklearn.metrics import confusion_matrix\n",
        "from sklearn.decomposition import PCA\n",
        "from sklearn.svm import SVC"
      ],
      "execution_count": 4,
      "outputs": []
    },
    {
      "cell_type": "markdown",
      "metadata": {
        "id": "r21nVjn7fEro",
        "colab_type": "text"
      },
      "source": [
        "## Loading the Dataset:"
      ]
    },
    {
      "cell_type": "code",
      "metadata": {
        "id": "JKC-WGxPS2jS",
        "colab_type": "code",
        "colab": {}
      },
      "source": [
        "faces = fetch_lfw_people('data', min_faces_per_person=70, resize=0.4)"
      ],
      "execution_count": 5,
      "outputs": []
    },
    {
      "cell_type": "code",
      "metadata": {
        "id": "zfArxbEaeXOe",
        "colab_type": "code",
        "colab": {
          "base_uri": "https://localhost:8080/",
          "height": 85
        },
        "outputId": "3520c6e6-51a9-4b65-e7e4-a8dc89e35680"
      },
      "source": [
        "n_samples, h, w = faces.images.shape\n",
        "np.random.seed(42)\n",
        "\n",
        "x = faces.data\n",
        "n_features = x.shape[1]\n",
        "\n",
        "y = faces.target\n",
        "target_names = faces.target_names\n",
        "n_classes = target_names.shape[0]\n",
        "\n",
        "print(\"Total dataset size:\")\n",
        "print(\"n_samples: %d\" % n_samples)\n",
        "print(\"n_features: %d\" % n_features)\n",
        "print( \"n_classes: %d\" % n_classes)\n"
      ],
      "execution_count": 6,
      "outputs": [
        {
          "output_type": "stream",
          "text": [
            "Total dataset size:\n",
            "n_samples: 1288\n",
            "n_features: 1850\n",
            "n_classes: 7\n"
          ],
          "name": "stdout"
        }
      ]
    },
    {
      "cell_type": "markdown",
      "metadata": {
        "id": "ZDlOv8QJnDaW",
        "colab_type": "text"
      },
      "source": [
        "## Splitting the Data into training and testing"
      ]
    },
    {
      "cell_type": "code",
      "metadata": {
        "id": "aQQpWf-tfKN3",
        "colab_type": "code",
        "colab": {}
      },
      "source": [
        "X_train, X_test, Y_train, Y_test = train_test_split(x, y, test_size=0.25, \n",
        "                                                    random_state=42)"
      ],
      "execution_count": 9,
      "outputs": []
    },
    {
      "cell_type": "markdown",
      "metadata": {
        "id": "qste3xPSnk0e",
        "colab_type": "text"
      },
      "source": [
        "## Computing PCA:"
      ]
    },
    {
      "cell_type": "code",
      "metadata": {
        "id": "T2BCqKcdndP2",
        "colab_type": "code",
        "colab": {}
      },
      "source": [
        ""
      ],
      "execution_count": null,
      "outputs": []
    }
  ]
}