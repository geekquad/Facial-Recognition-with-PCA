{
  "nbformat": 4,
  "nbformat_minor": 0,
  "metadata": {
    "colab": {
      "name": "Face Recognition PCA.ipynb",
      "provenance": []
    },
    "kernelspec": {
      "name": "python3",
      "display_name": "Python 3"
    }
  },
  "cells": [
    {
      "cell_type": "markdown",
      "metadata": {
        "id": "HcaRH1W0e_Gc",
        "colab_type": "text"
      },
      "source": [
        "Importing Necessary Libraries:"
      ]
    },
    {
      "cell_type": "code",
      "metadata": {
        "id": "rKZg_eT8Sv6t",
        "colab_type": "code",
        "colab": {}
      },
      "source": [
        "import pandas as pd\n",
        "import numpy as np\n",
        "from time import time\n",
        "import logging\n",
        "import matplotlib.pyplot as plt\n",
        "\n",
        "from sklearn.model_selection import train_test_split\n",
        "from sklearn.model_selection import GridSearchCV\n",
        "from sklearn.datasets import fetch_lfw_people\n",
        "from sklearn.metrics import classification_report\n",
        "from sklearn.metrics import confusion_matrix\n",
        "from sklearn.decomposition import PCA\n",
        "from sklearn.svm import SVC"
      ],
      "execution_count": 4,
      "outputs": []
    },
    {
      "cell_type": "markdown",
      "metadata": {
        "id": "r21nVjn7fEro",
        "colab_type": "text"
      },
      "source": [
        "## Loading the Dataset:"
      ]
    },
    {
      "cell_type": "code",
      "metadata": {
        "id": "JKC-WGxPS2jS",
        "colab_type": "code",
        "colab": {
          "base_uri": "https://localhost:8080/",
          "height": 85
        },
        "outputId": "55847c72-82e7-475a-fa01-8e18ec7798c2"
      },
      "source": [
        "faces = fetch_lfw_people('data', min_faces_per_person=70, resize=0.4)"
      ],
      "execution_count": 5,
      "outputs": [
        {
          "output_type": "stream",
          "text": [
            "Downloading LFW metadata: https://ndownloader.figshare.com/files/5976012\n",
            "Downloading LFW metadata: https://ndownloader.figshare.com/files/5976009\n",
            "Downloading LFW metadata: https://ndownloader.figshare.com/files/5976006\n",
            "Downloading LFW data (~200MB): https://ndownloader.figshare.com/files/5976015\n"
          ],
          "name": "stderr"
        }
      ]
    },
    {
      "cell_type": "code",
      "metadata": {
        "id": "zfArxbEaeXOe",
        "colab_type": "code",
        "colab": {
          "base_uri": "https://localhost:8080/",
          "height": 85
        },
        "outputId": "724a8c5b-6d41-4fac-f9b8-cbb3cf39ea60"
      },
      "source": [
        "n_samples, h, w = faces.images.shape\n",
        "np.random.seed(42)\n",
        "\n",
        "x = faces.data\n",
        "n_features = x.shape[1]\n",
        "\n",
        "y = faces.target\n",
        "target_names = faces.target_names\n",
        "n_classes = target_names.shape[0]\n",
        "\n",
        "print(\"Total dataset size:\")\n",
        "print(\"n_samples: %d\" % n_samples)\n",
        "print(\"n_features: %d\" % n_features)\n",
        "print( \"n_classes: %d\" % n_classes)\n"
      ],
      "execution_count": 6,
      "outputs": [
        {
          "output_type": "stream",
          "text": [
            "Total dataset size:\n",
            "n_samples: 1288\n",
            "n_features: 1850\n",
            "n_classes: 7\n"
          ],
          "name": "stdout"
        }
      ]
    },
    {
      "cell_type": "markdown",
      "metadata": {
        "id": "ZDlOv8QJnDaW",
        "colab_type": "text"
      },
      "source": [
        "## Splitting the Data into training and testing"
      ]
    },
    {
      "cell_type": "code",
      "metadata": {
        "id": "aQQpWf-tfKN3",
        "colab_type": "code",
        "colab": {}
      },
      "source": [
        "X_train, X_test, Y_train, Y_test = train_test_split(x, y, test_size=0.25, \n",
        "                                                    random_state=42)"
      ],
      "execution_count": 7,
      "outputs": []
    },
    {
      "cell_type": "markdown",
      "metadata": {
        "id": "qste3xPSnk0e",
        "colab_type": "text"
      },
      "source": [
        "## Computing PCA:"
      ]
    },
    {
      "cell_type": "code",
      "metadata": {
        "id": "T2BCqKcdndP2",
        "colab_type": "code",
        "colab": {
          "base_uri": "https://localhost:8080/",
          "height": 51
        },
        "outputId": "862ef408-88e5-462e-9ae8-514d0bf25348"
      },
      "source": [
        "n_components = 200\n",
        "print(\"Extracting the top %d eigenfaces from %d faces\" % (n_components, X_train.shape[0]))\n",
        "t0 = time()\n",
        "\n",
        "#Creating instances of PCA, initializing with n_components and whiten=True\n",
        "pca = PCA(n_components=n_components, whiten=True, svd_solver=\"randomized\")\n",
        "pca = pca.fit(X_train)\n",
        "print(\"Done in %0.3fs\" %(time()- t0))\n"
      ],
      "execution_count": 8,
      "outputs": [
        {
          "output_type": "stream",
          "text": [
            "Extracting the top 200 eigenfaces from 966 faces\n",
            "Done in 0.369s\n"
          ],
          "name": "stdout"
        }
      ]
    },
    {
      "cell_type": "markdown",
      "metadata": {
        "id": "h3l1WYQ3i4OT",
        "colab_type": "text"
      },
      "source": [
        "### Projecting the input data on the eigenfaces orthonormal basis:"
      ]
    },
    {
      "cell_type": "code",
      "metadata": {
        "id": "iDASjX7Iihh8",
        "colab_type": "code",
        "colab": {
          "base_uri": "https://localhost:8080/",
          "height": 34
        },
        "outputId": "4144dd5e-4695-424a-cfe0-8a00dd5cee29"
      },
      "source": [
        "eigenfaces = pca.components_.reshape((n_components, h, w))\n",
        "\n",
        "t0=time()\n",
        "X_train_pca = pca.transform(X_train)\n",
        "X_test_pca = pca.transform(X_test)\n",
        "print(\"Done in %0.3fs\" %(time()- t0))"
      ],
      "execution_count": 16,
      "outputs": [
        {
          "output_type": "stream",
          "text": [
            "Done in 0.037s\n"
          ],
          "name": "stdout"
        }
      ]
    },
    {
      "cell_type": "markdown",
      "metadata": {
        "id": "5QsgxVzgj02X",
        "colab_type": "text"
      },
      "source": [
        "## Training a SVM Classification Model"
      ]
    },
    {
      "cell_type": "code",
      "metadata": {
        "id": "1-1cCeCNjhsD",
        "colab_type": "code",
        "colab": {
          "base_uri": "https://localhost:8080/",
          "height": 102
        },
        "outputId": "071314a8-68ad-4311-d71e-b3b2657b7f09"
      },
      "source": [
        "param_grid = { 'C': [1e3, 5e3, 1e4, 5e4, 1e5],\n",
        "               'gamma': [0.0001, 0.0005, 0.001, 0.005, 0.01, 0.1],}\n",
        "\n",
        "clf = GridSearchCV(SVC(kernel='rbf', class_weight='balanced'), param_grid)\n",
        "clf = clf.fit(X_train_pca, Y_train)\n",
        "\n",
        "print(\"Best Estimator found by Grid Search:\")\n",
        "print(clf.best_estimator_)\n"
      ],
      "execution_count": 17,
      "outputs": [
        {
          "output_type": "stream",
          "text": [
            "Best Estimator found by Grid Search:\n",
            "SVC(C=1000.0, break_ties=False, cache_size=200, class_weight='balanced',\n",
            "    coef0=0.0, decision_function_shape='ovr', degree=3, gamma=0.001,\n",
            "    kernel='rbf', max_iter=-1, probability=False, random_state=None,\n",
            "    shrinking=True, tol=0.001, verbose=False)\n"
          ],
          "name": "stdout"
        }
      ]
    },
    {
      "cell_type": "code",
      "metadata": {
        "id": "cTtYiTl1kr3O",
        "colab_type": "code",
        "colab": {}
      },
      "source": [
        ""
      ],
      "execution_count": null,
      "outputs": []
    }
  ]
}